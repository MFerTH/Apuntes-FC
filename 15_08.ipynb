{
 "cells": [
  {
   "cell_type": "markdown",
   "id": "7d10ced6-5d26-457e-b4ce-a9517536de4d",
   "metadata": {},
   "source": [
    "## Jueves 15/08/2024"
   ]
  },
  {
   "cell_type": "markdown",
   "id": "d9829424-082d-4656-bbd2-7a0f89485825",
   "metadata": {},
   "source": [
    "$\\textbf{Ecuación}$\n",
    "$$\n",
    "\\begin{equation}\n",
    " \\lim_{n \\to \\infty} f(n)= \\frac{\\pi^{4}}{90}\n",
    "\\end{equation}\n",
    "$$"
   ]
  },
  {
   "cell_type": "code",
   "execution_count": 3,
   "id": "fb9116aa-a12e-405a-bf11-08ce4588a65d",
   "metadata": {},
   "outputs": [
    {
     "name": "stdout",
     "output_type": "stream",
     "text": [
      "La suma es:1.0820365834937566\n",
      "El error relativo es:0.0002648471440445908\n"
     ]
    }
   ],
   "source": [
    "a= π^4/90.0;\n",
    "n= 10;\n",
    "suma=0.0;\n",
    "\n",
    "for i=1:n\n",
    "    suma+=1.0/(i^4);\n",
    "end\n",
    "\n",
    "println(\"La suma es:\",suma);\n",
    "\n",
    "e1=abs(a-suma)/a;\n",
    "println(\"El error relativo es:\",e1);"
   ]
  },
  {
   "cell_type": "markdown",
   "id": "926be9d6-0ac1-46f4-8fb3-d22593dafc79",
   "metadata": {},
   "source": [
    "$\\textbf{Integración}$\n",
    "\n",
    "La integral de una función en un intervalo [a,b] puede ser aproximada por la fórmula\n",
    "$$\\int_{a}^{b}f(x)dx \\approx \\frac{f(a)+f(b)}{2}*(b-a)$$\n",
    "\n",
    "como $h=x_{1}-x_{0}=\\delta x$ entonces la integral se aproxima a $$\\int_{a}^{b}f(x)dx \\approx \\frac{f(x_{0}+f(x_{1})}{2}\\delta x$$\n",
    "\n",
    "si hay un punto intermedio vamos a tener dos inntegrales: de $x_{0}$ a $x_{1}$ y de $x_{1}$ a $x_{2}$ entonces\n",
    "\n",
    " $$\\int_{a}^{b}f(x)dx \\approx \\frac{f(x_{0})+f(x_{1})}{2}*\\delta x + \\frac{f(x_{1})+f(x_{2})}{2}*\\delta x$$\n",
    "\n",
    "Similarmente si tuviéramos dos puntos (tenemos 3 pedazos, por lo que son tres integrales)\n",
    "\n",
    "Podemos notar que cada término está multiplicado por $\\Delta x$: para 3 pedazos\n",
    "$$\\frac{\\Delta x}{2}[f(x_0)+2(f(x_1)+f(x_2))+f(x_3)]$$\n",
    "\n",
    "Para n pedazos tenemos la $\\textbf{regla del trapecio de múltiple aplicación}$ (aproximación por rectas)\n",
    "\n",
    " $$\\int_{a}^{b}f(x)dx \\approx\\frac{\\Delta x}{2}[f(x_{0})+f(x_{n})+2\\sum_{k=1}^{n-1} f(x_{k})]$$\n",
    "\n",
    "donde $\\Delta x=\\frac{b-a}{n}$ con n= número de puntos\n",
    "\n",
    "$\\textbf{Regla de Simpson}$: aproximación por una parábola\n",
    "\n",
    "$$\\int_{a}^{b}f(x)dx \\approx \\frac{\\Delta x}{3}[f(x_{0})+4f(x_{1})+f(x_{2})]$$\n",
    "\n",
    "De múltiple aplicación:\n",
    "\n",
    "$$\\int_{a}^{b}f(x)dx \\approx \\frac{\\Delta x}{3n}[f(x_{0})+f(x_{n})+2\\sum_{i=2,4,6...}^{n-2}f(x_{i})+4\\sum_{i=1,3,5...}^{n-1}f(x_{i})]$$\n"
   ]
  },
  {
   "cell_type": "code",
   "execution_count": 4,
   "id": "57bfb8ef-af76-42d1-9cdc-dc5f7ca339d5",
   "metadata": {},
   "outputs": [],
   "source": [
    "#Utilizamos la fórmula para la regla del trapecio\n",
    "\n",
    "f(x)=x;\n",
    "a=0.0;\n",
    "b=1.0;"
   ]
  },
  {
   "cell_type": "code",
   "execution_count": 5,
   "id": "c2ae750c-2c70-4157-964d-c1879edb58ca",
   "metadata": {},
   "outputs": [
    {
     "data": {
      "text/plain": [
       "(0.5000000000000003, 6.661338147750939e-16)"
      ]
     },
     "execution_count": 5,
     "metadata": {},
     "output_type": "execute_result"
    }
   ],
   "source": [
    "n=100; #número de intervalos\n",
    "Δx=(b-a)/n;\n",
    "x_0=a; #primer punto del intervalo\n",
    "x_n=b; #último punto del intervalo\n",
    "l=0.0; #inicializa l\n",
    "x_k=x_0; #iel primer punto que considera es x0\n",
    "for i in 1:n-1\n",
    "    x_k=x_k+Δx;\n",
    "    l=l+f(x_k);\n",
    "end\n",
    "\n",
    "l=2.0l;\n",
    "I_r=0.5;\n",
    "I=Δx*(f(x_0)+f(x_n)+l)/2.0;\n",
    "E_r=abs(I_r-I)/abs(I_r);\n",
    "I,E_r"
   ]
  },
  {
   "cell_type": "code",
   "execution_count": null,
   "id": "98b0f5cc-60bf-4f80-9218-e93de9d4b856",
   "metadata": {},
   "outputs": [],
   "source": []
  },
  {
   "cell_type": "code",
   "execution_count": null,
   "id": "e6417fed-a3da-4a3f-ae09-bd54b18575f0",
   "metadata": {},
   "outputs": [],
   "source": []
  }
 ],
 "metadata": {
  "kernelspec": {
   "display_name": "Julia 1.10.4",
   "language": "julia",
   "name": "julia-1.10"
  },
  "language_info": {
   "file_extension": ".jl",
   "mimetype": "application/julia",
   "name": "julia",
   "version": "1.10.4"
  }
 },
 "nbformat": 4,
 "nbformat_minor": 5
}
