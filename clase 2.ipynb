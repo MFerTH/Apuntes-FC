{
 "cells": [
  {
   "cell_type": "markdown",
   "id": "0bd58abd-e750-44f1-919b-e62bcf80ffbe",
   "metadata": {},
   "source": [
    "# Clase 2"
   ]
  },
  {
   "cell_type": "code",
   "execution_count": 2,
   "id": "85827a38-dc31-46e6-9233-bff4e1db1303",
   "metadata": {
    "tags": []
   },
   "outputs": [
    {
     "name": "stdout",
     "output_type": "stream",
     "text": [
      "Buenos días\n"
     ]
    }
   ],
   "source": [
    "print(\"Buenos días\")"
   ]
  },
  {
   "cell_type": "code",
   "execution_count": 5,
   "id": "bc13a70c-a755-4570-854a-bcc0e93a4795",
   "metadata": {
    "tags": []
   },
   "outputs": [
    {
     "name": "stdout",
     "output_type": "stream",
     "text": [
      "11.8\n",
      "76\n",
      "Hola\n",
      "6\n",
      "o\n",
      "[76, 'Hola', [6, 98], 76, 'Hola', [6, 98]]\n"
     ]
    }
   ],
   "source": [
    "variable_1 = 4\n",
    "variable_2 = \"Jesús\"\n",
    "variable_3 = 7.8\n",
    "print(variable_1+variable_3)\n",
    "variable_4 = [76,\"Hola\",[6,98]]\n",
    "print(variable_4[0])\n",
    "print(variable_4[1])\n",
    "print(variable_4[2][0])\n",
    "print(variable_4[1][1])\n",
    "print(2*variable_4)"
   ]
  },
  {
   "cell_type": "code",
   "execution_count": 6,
   "id": "d136b397-a112-42ab-9b66-aa7489cf6714",
   "metadata": {
    "tags": []
   },
   "outputs": [
    {
     "name": "stdout",
     "output_type": "stream",
     "text": [
      "5\n",
      "<class 'tuple'>\n",
      "<class 'list'>\n",
      "<class 'int'>\n",
      "<class 'str'>\n",
      "<class 'float'>\n"
     ]
    }
   ],
   "source": [
    "a = (5,7)\n",
    "print(a[0])\n",
    "print(type(a))\n",
    "print(type(variable_4))\n",
    "print(type(variable_1))\n",
    "print(type(variable_2))\n",
    "print(type(variable_3))\n"
   ]
  },
  {
   "cell_type": "code",
   "execution_count": 7,
   "id": "99c5d24f-f676-4660-8cbd-a6b84c611d15",
   "metadata": {
    "tags": []
   },
   "outputs": [
    {
     "name": "stdout",
     "output_type": "stream",
     "text": [
      "0\n",
      "1\n",
      "2\n",
      "3\n",
      "4\n",
      "5\n",
      "6\n",
      "7\n",
      "8\n",
      "9\n"
     ]
    }
   ],
   "source": [
    "for indice in range(10):\n",
    "    print(indice)"
   ]
  },
  {
   "cell_type": "code",
   "execution_count": 9,
   "id": "6381eea2-85e4-41ea-baa9-c1c44020108a",
   "metadata": {
    "tags": []
   },
   "outputs": [
    {
     "name": "stdout",
     "output_type": "stream",
     "text": [
      "76\n",
      "Hola\n",
      "[6, 98]\n"
     ]
    }
   ],
   "source": [
    "for indice in variable_4:\n",
    "    print(indice)\n"
   ]
  },
  {
   "cell_type": "code",
   "execution_count": 10,
   "id": "661ad791-8e69-482c-a5b9-98e6f326e5ca",
   "metadata": {
    "tags": []
   },
   "outputs": [
    {
     "name": "stdout",
     "output_type": "stream",
     "text": [
      "4\n",
      "7\n",
      "10\n",
      "13\n",
      "16\n",
      "19\n"
     ]
    }
   ],
   "source": [
    "for indice in range(4,20,3):\n",
    "    print(indice)\n"
   ]
  },
  {
   "cell_type": "code",
   "execution_count": 11,
   "id": "5a8d9b9e-9c32-48d3-a6ab-1ffa339ef1d7",
   "metadata": {
    "tags": []
   },
   "outputs": [
    {
     "name": "stdout",
     "output_type": "stream",
     "text": [
      "4\n",
      "17\n",
      "7\n",
      "26\n",
      "10\n",
      "35\n",
      "13\n",
      "44\n",
      "16\n",
      "53\n",
      "19\n",
      "62\n",
      "listo\n"
     ]
    }
   ],
   "source": [
    "for indice in range(4,20,3):\n",
    "    print(indice)\n",
    "    print(3*indice+5)\n",
    "print(\"listo\")    "
   ]
  },
  {
   "cell_type": "code",
   "execution_count": 12,
   "id": "d72e4cb5-9a56-441a-bf75-bcbdbb633c4c",
   "metadata": {
    "tags": []
   },
   "outputs": [
    {
     "name": "stdout",
     "output_type": "stream",
     "text": [
      "Hola\n",
      "11\n",
      "Hola\n",
      "12\n",
      "Hola\n",
      "13\n",
      "Hola\n",
      "14\n",
      "Hola\n",
      "15\n",
      "Hola\n",
      "16\n",
      "Hola\n",
      "17\n",
      "Hola\n",
      "18\n",
      "Hola\n",
      "19\n",
      "Hola\n",
      "20\n",
      "Hola\n",
      "21\n",
      "Hola\n",
      "22\n",
      "Hola\n",
      "23\n",
      "Hola\n",
      "24\n",
      "Hola\n",
      "25\n",
      "Hola\n",
      "26\n",
      "Hola\n",
      "27\n",
      "Hola\n",
      "28\n",
      "Hola\n",
      "29\n",
      "Hola\n",
      "30\n",
      "Hola\n",
      "31\n"
     ]
    }
   ],
   "source": [
    "testigo = 10\n",
    "while testigo <= 30:\n",
    "    print(\"Hola\")\n",
    "    testigo = testigo +1\n",
    "    print(testigo)"
   ]
  },
  {
   "cell_type": "code",
   "execution_count": 15,
   "id": "8ce826cb-4a4b-45d2-9739-178a1c17f40e",
   "metadata": {
    "tags": []
   },
   "outputs": [
    {
     "name": "stdout",
     "output_type": "stream",
     "text": [
      "a es menor b y además a es negativo\n"
     ]
    }
   ],
   "source": [
    "a = -5\n",
    "b = 8\n",
    "if a < b and a > 0: \n",
    " print(\"a es menor b\")\n",
    "elif a == b:\n",
    "    print(\"son iguales\")\n",
    "elif a < b and a < 0:\n",
    "    print(\"a es menor b y además a es negativo\")\n",
    "else:\n",
    "    print(\"b es menor a\")"
   ]
  },
  {
   "cell_type": "code",
   "execution_count": 20,
   "id": "1427bdbd-de27-4d7b-9de0-eb6087396b97",
   "metadata": {
    "tags": []
   },
   "outputs": [],
   "source": [
    "def mi_funcion():\n",
    "    print(\"Yo no hago nada, toy chikito\")"
   ]
  },
  {
   "cell_type": "code",
   "execution_count": 21,
   "id": "3e37aa34-8ed2-4bc3-a8f4-c6ca5601390b",
   "metadata": {
    "tags": []
   },
   "outputs": [
    {
     "name": "stdout",
     "output_type": "stream",
     "text": [
      "Yo no hago nada, toy chikito\n"
     ]
    }
   ],
   "source": [
    "mi_funcion()\n"
   ]
  },
  {
   "cell_type": "code",
   "execution_count": 22,
   "id": "7d3cd299-6b38-4683-924c-19d35329edfb",
   "metadata": {
    "tags": []
   },
   "outputs": [],
   "source": [
    "def mi_funcion(x):\n",
    "    poli = x**2 + 3*x -2\n",
    "    return poli"
   ]
  },
  {
   "cell_type": "code",
   "execution_count": 26,
   "id": "d13bb183-05e4-4de3-9712-607d9c8c830d",
   "metadata": {
    "tags": []
   },
   "outputs": [
    {
     "data": {
      "text/plain": [
       "38"
      ]
     },
     "execution_count": 26,
     "metadata": {},
     "output_type": "execute_result"
    }
   ],
   "source": [
    "resultado = mi_funcion(5)\n",
    "resultado"
   ]
  },
  {
   "cell_type": "code",
   "execution_count": 35,
   "id": "1085f714-6904-427e-8ab7-233eca66ac0c",
   "metadata": {
    "tags": []
   },
   "outputs": [],
   "source": [
    "def mi_funcion(x):\n",
    "    poli = x**2 + 3*x -2\n",
    "    for i in range(10):\n",
    "        i = i + 1\n",
    "        #i += 1\n",
    "    return poli"
   ]
  },
  {
   "cell_type": "code",
   "execution_count": null,
   "id": "5dfc67f6-881e-4009-817a-577c8e323034",
   "metadata": {},
   "outputs": [],
   "source": [
    "$\\sin x = \\sum _{n=0} ^\\infty \\fracc{(-1 \n",
    "                                      #NO LO TERMINË DE ANOTAR "
   ]
  },
  {
   "cell_type": "code",
   "execution_count": 33,
   "id": "b00047c9-4ad5-477f-9073-7708a3f6164c",
   "metadata": {
    "tags": []
   },
   "outputs": [],
   "source": [
    "def mi_factorial(n):\n",
    "    # ojo n es enteroo\n",
    "    if n == 0:\n",
    "        fac = 1\n",
    "    else:\n",
    "        fac = 1\n",
    "        for i in range(1,n+1):\n",
    "            fac =  fac*i   \n",
    "    return fac\n",
    "    "
   ]
  },
  {
   "cell_type": "code",
   "execution_count": 34,
   "id": "2ca8b28f-c490-4374-bb2a-829edc03f8fd",
   "metadata": {
    "tags": []
   },
   "outputs": [
    {
     "data": {
      "text/plain": [
       "120"
      ]
     },
     "execution_count": 34,
     "metadata": {},
     "output_type": "execute_result"
    }
   ],
   "source": [
    "mi_factorial(5)\n"
   ]
  },
  {
   "cell_type": "code",
   "execution_count": 38,
   "id": "a7729883-ae75-4943-83d2-65f1cfa1d031",
   "metadata": {
    "tags": []
   },
   "outputs": [],
   "source": [
    "def mi_factorial_alt(n):\n",
    "    # ojo n es enteroo\n",
    "    if n == 0:\n",
    "        fac = 1\n",
    "    else:\n",
    "        fac = 1\n",
    "        for i in range(n):\n",
    "            fac =  fac*(i+1)   \n",
    "    return fac\n",
    "    "
   ]
  },
  {
   "cell_type": "code",
   "execution_count": 39,
   "id": "786717ef-340b-4e3a-a7e9-c9608c0e12bc",
   "metadata": {
    "tags": []
   },
   "outputs": [
    {
     "data": {
      "text/plain": [
       "120"
      ]
     },
     "execution_count": 39,
     "metadata": {},
     "output_type": "execute_result"
    }
   ],
   "source": [
    "mi_factorial_alt(5)"
   ]
  },
  {
   "cell_type": "code",
   "execution_count": 54,
   "id": "aa1df048-1531-4c23-b908-a8f5bd52f2e8",
   "metadata": {
    "tags": []
   },
   "outputs": [],
   "source": [
    "def mi_sin(x):\n",
    "    ss = 0\n",
    "    for i in range(30):\n",
    "        ss += (-1)**(i) * ( x**(2*i+1) / mi_factorial(2*i+1) )\n",
    "        return ss"
   ]
  },
  {
   "cell_type": "code",
   "execution_count": 55,
   "id": "a108f0f4-238e-40fc-b214-76df77d2dcde",
   "metadata": {
    "tags": []
   },
   "outputs": [
    {
     "data": {
      "text/plain": [
       "1.2"
      ]
     },
     "execution_count": 55,
     "metadata": {},
     "output_type": "execute_result"
    }
   ],
   "source": [
    "mi_sin(1.2)"
   ]
  },
  {
   "cell_type": "code",
   "execution_count": null,
   "id": "b0940517-5182-4bd0-aee8-083530cf0267",
   "metadata": {},
   "outputs": [],
   "source": []
  },
  {
   "cell_type": "code",
   "execution_count": null,
   "id": "28ee755e-9e88-42bf-9756-4365acfe79fa",
   "metadata": {},
   "outputs": [],
   "source": []
  }
 ],
 "metadata": {
  "kernelspec": {
   "display_name": "Python 3 (ipykernel)",
   "language": "python",
   "name": "python3"
  },
  "language_info": {
   "codemirror_mode": {
    "name": "ipython",
    "version": 3
   },
   "file_extension": ".py",
   "mimetype": "text/x-python",
   "name": "python",
   "nbconvert_exporter": "python",
   "pygments_lexer": "ipython3",
   "version": "3.11.5"
  }
 },
 "nbformat": 4,
 "nbformat_minor": 5
}
