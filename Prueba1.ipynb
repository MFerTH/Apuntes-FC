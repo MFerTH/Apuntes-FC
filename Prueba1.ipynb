{
 "cells": [
  {
   "cell_type": "code",
   "execution_count": 1,
   "id": "a7f4dac4-a69f-4c45-8017-b942ac316240",
   "metadata": {
    "tags": []
   },
   "outputs": [
    {
     "name": "stdout",
     "output_type": "stream",
     "text": [
      "Esta es una biblioteca\n"
     ]
    }
   ],
   "source": [
    "%run Biblioteca.ipynb"
   ]
  },
  {
   "cell_type": "code",
   "execution_count": 2,
   "id": "b77c9b28-e073-4f8f-bf39-17e003e1223e",
   "metadata": {
    "tags": []
   },
   "outputs": [
    {
     "data": {
      "text/plain": [
       "array([ 0.        ,  0.32057068,  0.64114136,  0.96171204,  1.28228272,\n",
       "        1.60285339,  1.92342407,  2.24399475,  2.56456543,  2.88513611,\n",
       "        3.20570679,  3.52627747,  3.84684815,  4.16741883,  4.48798951,\n",
       "        4.80856018,  5.12913086,  5.44970154,  5.77027222,  6.0908429 ,\n",
       "        6.41141358,  6.73198426,  7.05255494,  7.37312562,  7.69369629,\n",
       "        8.01426697,  8.33483765,  8.65540833,  8.97597901,  9.29654969,\n",
       "        9.61712037,  9.93769105, 10.25826173, 10.5788324 , 10.89940308,\n",
       "       11.21997376, 11.54054444, 11.86111512, 12.1816858 , 12.50225648,\n",
       "       12.82282716, 13.14339784, 13.46396852, 13.78453919, 14.10510987,\n",
       "       14.42568055, 14.74625123, 15.06682191, 15.38739259, 15.70796327])"
      ]
     },
     "execution_count": 2,
     "metadata": {},
     "output_type": "execute_result"
    }
   ],
   "source": [
    "x=linspace(0,5*pi)\n",
    "mi_sin(x)\n"
   ]
  },
  {
   "cell_type": "code",
   "execution_count": 3,
   "id": "291496c7-bbf5-47c9-88f3-0e17eac855dd",
   "metadata": {
    "tags": []
   },
   "outputs": [
    {
     "name": "stdout",
     "output_type": "stream",
     "text": [
      "Biblioteca importada satisfactoriamente\n"
     ]
    }
   ],
   "source": [
    "%run Biblioteca.ipynb"
   ]
  },
  {
   "cell_type": "code",
   "execution_count": null,
   "id": "4b869147-68af-4a04-974e-859888e28481",
   "metadata": {},
   "outputs": [],
   "source": []
  }
 ],
 "metadata": {
  "kernelspec": {
   "display_name": "Python 3 (ipykernel)",
   "language": "python",
   "name": "python3"
  },
  "language_info": {
   "codemirror_mode": {
    "name": "ipython",
    "version": 3
   },
   "file_extension": ".py",
   "mimetype": "text/x-python",
   "name": "python",
   "nbconvert_exporter": "python",
   "pygments_lexer": "ipython3",
   "version": "3.11.5"
  }
 },
 "nbformat": 4,
 "nbformat_minor": 5
}
