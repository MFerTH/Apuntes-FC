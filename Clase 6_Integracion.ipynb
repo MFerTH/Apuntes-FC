{
 "cells": [
  {
   "cell_type": "markdown",
   "id": "5a2c6d0b-1624-402f-a019-31062dd3866d",
   "metadata": {},
   "source": [
    "## Clase 6: Integración"
   ]
  },
  {
   "cell_type": "markdown",
   "id": "6c3df04f-776a-4dcd-a775-456f8d4aab0e",
   "metadata": {
    "tags": []
   },
   "source": [
    "Vamos a integrar"
   ]
  },
  {
   "cell_type": "markdown",
   "id": "02dae6d0-fec0-4bf1-bd8a-aa36eda0208f",
   "metadata": {},
   "source": [
    "La expresión para la integral en el punto $x_i$ en un intervalo simétrico $\\pm h$ es:\n",
    "\n",
    "$$\n",
    " \\int_{x_i -h}^{x_i + h} f(x) dx= \\left(\\frac{f_{i-1}+4f{i}+f_{i+1}}{3}\\right)h\n",
    "$$\n",
    "\n",
    "En caso de tener un intervalo par, hay que sumar: \n",
    "\n",
    "$$\n",
    " \\int_{x_0}^{x_1} f(x) dx= \\left(\\frac{23f_{0} + 26 f{1} - 4f_{2} + 6 f{3} - 3f_{4}}{48}\\right)h\n",
    "$$"
   ]
  },
  {
   "cell_type": "code",
   "execution_count": 2,
   "id": "09f7c6bb-8750-4e39-96ea-8210e37f430c",
   "metadata": {
    "tags": []
   },
   "outputs": [],
   "source": [
    "from pylab import *"
   ]
  },
  {
   "cell_type": "code",
   "execution_count": 24,
   "id": "a7b2e684-c76f-480c-9c3d-950cc520bfa3",
   "metadata": {
    "tags": []
   },
   "outputs": [],
   "source": [
    "def integrar(x,y): #funciona para intervalos pares e impares\n",
    "    \n",
    "    N, I, h =len(x), 0, x[1]-x[0]\n",
    "    \n",
    "    if N%2 == 0: #Si N es par (mod2=0) hay que sumarle un pedazo, si N es impar (mod2=1) el intervalo es simétrico\n",
    "        #print(\"Sumar pedacito\")\n",
    "        inicial = 2\n",
    "        I += (23*y[0] +26*y[1] -4*y[2] +6*y[3] -3*y[4])/16 #el punto inicial aumenta o disminuye el error\n",
    "    else:\n",
    "        inicial = 1\n",
    "        \n",
    "    #final = N-2 #Python se detiene en el último término pero no lo utiliza\n",
    "    #for i in range(inicial,final,2): #no está considerando el último valor\n",
    "    for i in range(inicial,N,2):\n",
    "            #print(\"x_i=\",x[i],\"indice=\",i)\n",
    "        I += y[i-1] + 4*y[i] + y[i+1]\n",
    "        \n",
    "    return I*(h/3)\n",
    "\n",
    "#Recordatorio para ver que la secuencia funciona antes de implementarlo"
   ]
  },
  {
   "cell_type": "code",
   "execution_count": 18,
   "id": "c7e7db62-dd69-4a21-9611-696cb3683440",
   "metadata": {
    "tags": []
   },
   "outputs": [
    {
     "data": {
      "text/plain": [
       "2.0001095173150043"
      ]
     },
     "execution_count": 18,
     "metadata": {},
     "output_type": "execute_result"
    }
   ],
   "source": [
    "#x = linspace(0,1,9) #estamos partiendo el intervalo (0,1) en 8 intervalos que nos da 9 indices\n",
    "#necesitamos que el linspace tenga 5 elementos como mínimo\n",
    "x = linspace(0,pi,11)\n",
    "y = sin(x)\n",
    "\n",
    "#print(x)\n",
    "integrar(x,y)"
   ]
  },
  {
   "cell_type": "markdown",
   "id": "92d923a3-4b3a-41cd-9642-be7017ca0561",
   "metadata": {},
   "source": [
    "Veamos la convergencia de la integral:"
   ]
  },
  {
   "cell_type": "code",
   "execution_count": 35,
   "id": "0fe50d16-a5ae-400b-b167-78cf8850d5ff",
   "metadata": {
    "tags": []
   },
   "outputs": [
    {
     "data": {
      "image/png": "[encoded data removed]",
      "text/plain": [
       "<Figure size 640x480 with 1 Axes>"
      ]
     },
     "metadata": {},
     "output_type": "display_data"
    }
   ],
   "source": [
    "particiones = arange(5,1000)\n",
    "resultados=zeros(len(particiones)) #para que considere números reales\n",
    "\n",
    "for i in range(len(particiones)):\n",
    "    x = linspace(0,pi,particiones[i])\n",
    "    y = sin(x)\n",
    "    resultados[i]= integrar(x,y)\n",
    "\n",
    "#plot(particiones, resultados)\n",
    "semilogx(particiones,resultados)\n",
    "#ylim([2,2.01])\n",
    "grid()\n",
    "show()"
   ]
  },
  {
   "cell_type": "code",
   "execution_count": null,
   "id": "b55f858d-2c75-43ab-88f7-224c17dcbefa",
   "metadata": {},
   "outputs": [],
   "source": []
  }
 ],
 "metadata": {
  "kernelspec": {
   "display_name": "Python 3 (ipykernel)",
   "language": "python",
   "name": "python3"
  },
  "language_info": {
   "codemirror_mode": {
    "name": "ipython",
    "version": 3
   },
   "file_extension": ".py",
   "mimetype": "text/x-python",
   "name": "python",
   "nbconvert_exporter": "python",
   "pygments_lexer": "ipython3",
   "version": "3.11.5"
  }
 },
 "nbformat": 4,
 "nbformat_minor": 5
}
