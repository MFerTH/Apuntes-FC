{
 "cells": [
  {
   "cell_type": "code",
   "execution_count": 68,
   "id": "4fc41499-a8b8-43d1-a938-2a918e0eb362",
   "metadata": {
    "tags": []
   },
   "outputs": [],
   "source": [
    "from pylab import *"
   ]
  },
  {
   "cell_type": "code",
   "execution_count": 81,
   "id": "cf65e160-f499-458d-ba80-1c65b120e86c",
   "metadata": {
    "tags": []
   },
   "outputs": [],
   "source": [
    "def greca(x):\n",
    "    y=zeros(len(x))\n",
    "    for i in range(len(x)):\n",
    "        entero_x = int(x[i])\n",
    "        if entero_x%2 == 0:\n",
    "            y[i]=1\n",
    "        else:\n",
    "            y[i]=0\n",
    "    for i in range(len(y)):\n",
    "        if y[i]-y[i-1]>0:\n",
    "            y[i]=nan\n",
    "        elif y[i]-y[i+1]>0 :\n",
    "            \n",
    "            y[i]=nan\n",
    "    #print(y)\n",
    "    return y   \n",
    "        "
   ]
  },
  {
   "cell_type": "code",
   "execution_count": 83,
   "id": "5b4eee05-5075-4850-903f-80ce83008714",
   "metadata": {
    "tags": []
   },
   "outputs": [
    {
     "data": {
      "image/png": "[encoded data removed]",
      "text/plain": [
       "<Figure size 640x480 with 1 Axes>"
      ]
     },
     "metadata": {},
     "output_type": "display_data"
    }
   ],
   "source": [
    "x = linspace(0,10,1000)\n",
    "#print(x)\n",
    "y = greca(x)\n",
    "#print(y)\n",
    "plot(x,y)\n",
    "grid()\n",
    "show()"
   ]
  },
  {
   "cell_type": "code",
   "execution_count": null,
   "id": "98f93ae6-a5bf-44a3-9dbb-e97e0d6a7078",
   "metadata": {},
   "outputs": [],
   "source": []
  },
  {
   "cell_type": "code",
   "execution_count": 132,
   "id": "94eb7f30-96d8-4abc-ae6e-8b7bf8f52736",
   "metadata": {
    "tags": []
   },
   "outputs": [],
   "source": [
    "def bipar(func,xi,xd,err=0.0001): #bipar(Funciòn,punto inicial, punto final )\n",
    "    xm = 0.5*(xi+xd) #Punto medio\n",
    "    fi,fm,fd = func(xi),func(xm),func(xd)\n",
    "    dif_raiz, contador = err+1, 0\n",
    "    #for i in range(30):\n",
    "    while abs(fm) > err:\n",
    "        xref= xm\n",
    "        if fi*fm>0:\n",
    "            xi,fi = xm, fm\n",
    "        else:\n",
    "            xd, fd = xm, fm\n",
    "        xm = 0.5*(xi+xd)\n",
    "        fm = func(xm)\n",
    "        #print(\"\\t\",xm,\"\\t\",fm)\n",
    "        contador += 1\n",
    "        dif_raiz = abs(xref-xm)\n",
    "    print(\"Bùmero de iteraciones: \",contador)    \n",
    "    return xm"
   ]
  },
  {
   "cell_type": "code",
   "execution_count": 141,
   "id": "bd43a02f-ce5b-4fe7-b2af-0f320a1997c1",
   "metadata": {
    "tags": []
   },
   "outputs": [
    {
     "name": "stdout",
     "output_type": "stream",
     "text": [
      "Bùmero de iteraciones:  33\n"
     ]
    },
    {
     "data": {
      "text/plain": [
       "3.1415926535555627"
      ]
     },
     "execution_count": 141,
     "metadata": {},
     "output_type": "execute_result"
    }
   ],
   "source": [
    "bipar(sin,0.1,6,1e-10)"
   ]
  },
  {
   "cell_type": "code",
   "execution_count": 137,
   "id": "ae7f0a26-5bd0-4812-a2f7-a6c796bb9dde",
   "metadata": {
    "tags": []
   },
   "outputs": [],
   "source": [
    "def raiz_newton(func,d_func,x0,err=1e-5):#1e-5 = 1*10**(-5)\n",
    "    fi,dfi = func(x0),d_func(x0)\n",
    "    dif_raiz, contador = err+1,0\n",
    "    while abs(fi) > err and dif_raiz > err:\n",
    "        xref = x0\n",
    "        x0 =x0-(fi/dfi)\n",
    "        fi,dfi = func(x0),d_func(x0)\n",
    "        dif_raiz = abs(xref-x0)\n",
    "        #print(x0, \" \\t\",fi)\n",
    "        contador += 1\n",
    "    print(\"Nùmero de iteraciones con el algoritmo de Newton: \",contador)\n",
    "    return x0"
   ]
  },
  {
   "cell_type": "code",
   "execution_count": 143,
   "id": "66cc6d3d-6e13-4059-b4fa-d94d9de391e0",
   "metadata": {
    "tags": []
   },
   "outputs": [
    {
     "name": "stdout",
     "output_type": "stream",
     "text": [
      "Nùmero de iteraciones con el algoritmo de Newton:  3\n"
     ]
    },
    {
     "data": {
      "text/plain": [
       "-12.566370614359174"
      ]
     },
     "execution_count": 143,
     "metadata": {},
     "output_type": "execute_result"
    }
   ],
   "source": [
    "raiz_newton(sin,cos,1.5,1e-10)"
   ]
  },
  {
   "cell_type": "code",
   "execution_count": null,
   "id": "0a5a0fc6-9a19-4923-8f43-cee00ad9bf4e",
   "metadata": {},
   "outputs": [],
   "source": []
  },
  {
   "cell_type": "code",
   "execution_count": null,
   "id": "45f4d19e-7686-492f-b3ff-26ddae1db7a3",
   "metadata": {},
   "outputs": [],
   "source": []
  },
  {
   "cell_type": "code",
   "execution_count": null,
   "id": "fbb98935-fac2-45f9-9e4d-bb02d48ded5f",
   "metadata": {},
   "outputs": [],
   "source": []
  },
  {
   "cell_type": "code",
   "execution_count": null,
   "id": "294d7cbb-6e5d-4032-9ac1-cc9a1cf70079",
   "metadata": {},
   "outputs": [],
   "source": []
  },
  {
   "cell_type": "code",
   "execution_count": null,
   "id": "1dc9ab6a-387f-4e6d-84f2-936fe0e4d774",
   "metadata": {},
   "outputs": [],
   "source": []
  },
  {
   "cell_type": "code",
   "execution_count": null,
   "id": "f695265f-9487-4588-8704-c1856c9ff7ef",
   "metadata": {},
   "outputs": [],
   "source": []
  },
  {
   "cell_type": "code",
   "execution_count": null,
   "id": "d77601db-814d-4bd9-8271-7b7107f20066",
   "metadata": {},
   "outputs": [],
   "source": []
  },
  {
   "cell_type": "code",
   "execution_count": null,
   "id": "793c92c4-c733-4cc1-bd37-10292b741e38",
   "metadata": {},
   "outputs": [],
   "source": []
  },
  {
   "cell_type": "code",
   "execution_count": null,
   "id": "7fdf5402-5b14-4e7c-aa79-21c565e80830",
   "metadata": {},
   "outputs": [],
   "source": []
  },
  {
   "cell_type": "code",
   "execution_count": null,
   "id": "72eef2b6-96ce-4608-b55e-821794724d93",
   "metadata": {},
   "outputs": [],
   "source": []
  }
 ],
 "metadata": {
  "kernelspec": {
   "display_name": "Python 3 (ipykernel)",
   "language": "python",
   "name": "python3"
  },
  "language_info": {
   "codemirror_mode": {
    "name": "ipython",
    "version": 3
   },
   "file_extension": ".py",
   "mimetype": "text/x-python",
   "name": "python",
   "nbconvert_exporter": "python",
   "pygments_lexer": "ipython3",
   "version": "3.11.5"
  }
 },
 "nbformat": 4,
 "nbformat_minor": 5
}
