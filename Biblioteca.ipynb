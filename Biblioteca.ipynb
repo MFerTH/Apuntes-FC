{
 "cells": [
  {
   "cell_type": "code",
   "execution_count": 3,
   "id": "69386bba-9ec7-4a25-a015-ebb3e4da48fa",
   "metadata": {
    "tags": []
   },
   "outputs": [],
   "source": [
    "from pylab import *\n",
    "from scipy.special import *"
   ]
  },
  {
   "cell_type": "code",
   "execution_count": 2,
   "id": "e7a2fd1a-a6ed-47dc-8859-c5b0949a7011",
   "metadata": {
    "tags": []
   },
   "outputs": [],
   "source": [
    "def mi_sin(x,N_max=10): #Hay algo raro con la funci{on y eso afecta los resultados\n",
    "    ss = zeros_like(x)\n",
    "    for i in range(N_max):\n",
    "        ss += (-1)**(i) * ( x**(2*i+1) / factorial(2*i+1)) \n",
    "        return ss"
   ]
  },
  {
   "cell_type": "code",
   "execution_count": 5,
   "id": "b9172372-e69b-401a-9b83-e4e64c70a33f",
   "metadata": {
    "tags": []
   },
   "outputs": [
    {
     "name": "stdout",
     "output_type": "stream",
     "text": [
      "Biblioteca importada satisfactoriamente\n"
     ]
    }
   ],
   "source": [
    "print(\"Biblioteca importada satisfactoriamente\")"
   ]
  },
  {
   "cell_type": "code",
   "execution_count": null,
   "id": "951c303f-ffa5-4a56-84ef-f83fe867cef8",
   "metadata": {},
   "outputs": [],
   "source": []
  }
 ],
 "metadata": {
  "kernelspec": {
   "display_name": "Python 3 (ipykernel)",
   "language": "python",
   "name": "python3"
  },
  "language_info": {
   "codemirror_mode": {
    "name": "ipython",
    "version": 3
   },
   "file_extension": ".py",
   "mimetype": "text/x-python",
   "name": "python",
   "nbconvert_exporter": "python",
   "pygments_lexer": "ipython3",
   "version": "3.11.5"
  }
 },
 "nbformat": 4,
 "nbformat_minor": 5
}
