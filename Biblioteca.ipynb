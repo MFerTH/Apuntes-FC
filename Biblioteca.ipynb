{
 "cells": [
  {
   "cell_type": "code",
   "execution_count": 3,
   "id": "69386bba-9ec7-4a25-a015-ebb3e4da48fa",
   "metadata": {
    "tags": []
   },
   "outputs": [],
   "source": [
    "from pylab import *\n",
    "from scipy.special import *"
   ]
  },
  {
   "cell_type": "code",
   "execution_count": 2,
   "id": "e7a2fd1a-a6ed-47dc-8859-c5b0949a7011",
   "metadata": {
    "tags": []
   },
   "outputs": [],
   "source": [
    "def mi_sin(x,N_max=10): #Hay algo raro con la funci{on y eso afecta los resultados\n",
    "    ss = zeros_like(x)\n",
    "    for i in range(N_max):\n",
    "        ss += (-1)**(i) * ( x**(2*i+1) / factorial(2*i+1)) \n",
    "        return ss\n",
    "    \n",
    "def Deriv_h3(x,y): #algoritmo de la derivada hacia adelante\n",
    "    h2= 2*(x[1]-x[0])\n",
    "    dy=zeros_like(y) #es más eficiente declarar dy de esta forma porque aparta la memoria necesaria\n",
    "    for i in range (1,len(y)-1):\n",
    "        dy[i]=y[i+1]-y[i-1] #f_i+1 - f_i-1\n",
    "    dy[0]= -3*y[0] +4*y[1] -y[2] #f_1 - f_0 #esta línea lo hace diferente al algoritmo de Euler\n",
    "    dy[-1]= 3*y[-1]-4*y[-2] +y[-3] #f_n - f_n-1\n",
    "    dy=dy/h2 \n",
    "    return dy"
   ]
  },
  {
   "cell_type": "code",
   "execution_count": 5,
   "id": "b9172372-e69b-401a-9b83-e4e64c70a33f",
   "metadata": {
    "tags": []
   },
   "outputs": [
    {
     "name": "stdout",
     "output_type": "stream",
     "text": [
      "Biblioteca importada satisfactoriamente\n"
     ]
    }
   ],
   "source": [
    "print(\"Biblioteca importada satisfactoriamente\")"
   ]
  },
  {
   "cell_type": "code",
   "execution_count": null,
   "id": "951c303f-ffa5-4a56-84ef-f83fe867cef8",
   "metadata": {},
   "outputs": [],
   "source": []
  }
 ],
 "metadata": {
  "kernelspec": {
   "display_name": "Python 3 (ipykernel)",
   "language": "python",
   "name": "python3"
  },
  "language_info": {
   "codemirror_mode": {
    "name": "ipython",
    "version": 3
   },
   "file_extension": ".py",
   "mimetype": "text/x-python",
   "name": "python",
   "nbconvert_exporter": "python",
   "pygments_lexer": "ipython3",
   "version": "3.11.5"
  }
 },
 "nbformat": 4,
 "nbformat_minor": 5
}
