{
 "cells": [
  {
   "cell_type": "markdown",
   "id": "1a2bc206-e15e-4a32-b7b5-f3020d4c6f82",
   "metadata": {},
   "source": [
    "## Clase 8: Raíces de funciones"
   ]
  },
  {
   "cell_type": "code",
   "execution_count": 1,
   "id": "4d805edf-9ba2-4f9f-a7e9-27aa2ebb2215",
   "metadata": {
    "tags": []
   },
   "outputs": [],
   "source": [
    "from pylab import *"
   ]
  },
  {
   "cell_type": "markdown",
   "id": "10a08b7a-c994-45f7-b267-13bfb712fc27",
   "metadata": {},
   "source": [
    "Para el problema 1 de la tarea"
   ]
  },
  {
   "cell_type": "code",
   "execution_count": 2,
   "id": "39c0fe0a-b1bd-458b-b790-159f2b57f1f6",
   "metadata": {
    "tags": []
   },
   "outputs": [],
   "source": [
    "def greca(x):\n",
    "    y=zeros(len(x))\n",
    "    \n",
    "    for i in range(len(x)):\n",
    "        int_x=int(x[i])\n",
    "        if int_x%2==0:\n",
    "            y[i]=1\n",
    "        else:\n",
    "            y[i]=0\n",
    "    \n",
    "    return y"
   ]
  },
  {
   "cell_type": "code",
   "execution_count": 3,
   "id": "ed5cd697-fe91-4646-b967-76f01ac190e9",
   "metadata": {
    "tags": []
   },
   "outputs": [
    {
     "data": {
      "image/png": "[encoded data removed]",
      "text/plain": [
       "<Figure size 640x480 with 1 Axes>"
      ]
     },
     "metadata": {},
     "output_type": "display_data"
    }
   ],
   "source": [
    "x=linspace(0,10,1000)\n",
    "y=greca(x)\n",
    "\n",
    "plot(x,y)\n",
    "\n",
    "show() #las lìneas que salen en la gráfica son debido al graficador, ¿cómo las quitamos?"
   ]
  },
  {
   "cell_type": "markdown",
   "id": "93f2a926-4298-4fe8-9a8e-7cc916fbae00",
   "metadata": {},
   "source": [
    "Para obtener raíces de funciones hay que encontrar el intervalo en el que la función cruza al eje x. \n",
    "    Primer algoritmo:\n",
    "        Para encontrar este intervalo podemos analizar el signo del producto de las f(x_i) y el punto medio.\n",
    "            Nota: Puede ocurrir que muchos puntos estén en el cero o que tengamos una recta vertical.\n",
    "    Segundo algoritmo (Newton):\n",
    "        Utilizar la recta tangente, sin embargo, no podemos usarlo cuando tenemos máximos o mínimos.\n",
    "        La sucesión a programar es\n",
    "        $$\n",
    "            x_{n+1}=x_n + \\frac{f_n}{f'_n}\n",
    "        $$\n",
    "        "
   ]
  },
  {
   "cell_type": "markdown",
   "id": "bea4b614-5f48-4e1b-bbd9-fcaa87baea5d",
   "metadata": {},
   "source": [
    "Utilizamos el método de particiones"
   ]
  },
  {
   "cell_type": "code",
   "execution_count": 4,
   "id": "3bc2769f-e30a-4fcd-a8d1-4a0681c160a1",
   "metadata": {
    "tags": []
   },
   "outputs": [],
   "source": [
    "#from pylab import *\n",
    "def bipart(func,xi,xd,err=0.0001):\n",
    "    \n",
    "    xm=0.5*(xi+xd)\n",
    "    fi,fd,fm=func(xi),func(xd),func(xm)\n",
    "    dif_raiz, cont=err+1, 0\n",
    "    \n",
    "    #for i in range(30): #el rango nos da el número de iteraciones\n",
    "    while abs(fm)>err and dif_raiz>err:\n",
    "        xref=xm\n",
    "        if fi*fm > 0:\n",
    "            xi, fi=xm, fm \n",
    "        else: \n",
    "            xd, fd=xm, fm\n",
    "            \n",
    "        xm=0.5*(xi+xd)\n",
    "        fm=func(xm)\n",
    "        #print(\"\\t\",xm,\"\\t\",fm)\n",
    "        dif_raiz=abs(xref-xm)\n",
    "        cont+=1\n",
    "    print(\"Número de iteraciones con el método de particiones:\",cont)\n",
    "    return xm"
   ]
  },
  {
   "cell_type": "code",
   "execution_count": 8,
   "id": "eee6ba7c-0c4e-47bb-8f48-45b583a3e3f4",
   "metadata": {
    "tags": []
   },
   "outputs": [
    {
     "name": "stdout",
     "output_type": "stream",
     "text": [
      "Número de iteraciones con el método de particiones: 33\n"
     ]
    },
    {
     "data": {
      "text/plain": [
       "3.1415926535555627"
      ]
     },
     "execution_count": 8,
     "metadata": {},
     "output_type": "execute_result"
    }
   ],
   "source": [
    "bipart(sin,0.1,6,1e-10)"
   ]
  },
  {
   "cell_type": "markdown",
   "id": "912bb38d-7061-4439-b234-3e04295295bb",
   "metadata": {},
   "source": [
    "Utilizamos el método de Newton"
   ]
  },
  {
   "cell_type": "code",
   "execution_count": 6,
   "id": "2158a2f7-d0fc-4ee6-85ee-ba29a28faed4",
   "metadata": {
    "tags": []
   },
   "outputs": [],
   "source": [
    "def r_n(func,deriv_func,x0,err =1e-5):\n",
    "    fi, dfi=func(x), deriv_func(x0)\n",
    "    dif_raiz,cont=err+1,0\n",
    "    \n",
    "    #for i in range(10):\n",
    "    while abs(fi)>err and dif_raiz>err:\n",
    "        xref=x0\n",
    "        x0=x0-(fi/dfi)\n",
    "        fi, dfi=func(x0), deriv_func(x0)\n",
    "        dif_raiz=abs(xref-xm)\n",
    "        #print(x0,\"\\t\",fi)\n",
    "        cont+=1\n",
    "    print(\"Número de iteraciones con el algoritmo de Newton:\",cont)\n",
    "    return x0"
   ]
  },
  {
   "cell_type": "code",
   "execution_count": 7,
   "id": "dcddcba4-c62c-4fb4-848b-992cef7aae37",
   "metadata": {
    "tags": []
   },
   "outputs": [
    {
     "ename": "ValueError",
     "evalue": "The truth value of an array with more than one element is ambiguous. Use a.any() or a.all()",
     "output_type": "error",
     "traceback": [
      "\u001b[0;31m---------------------------------------------------------------------------\u001b[0m",
      "\u001b[0;31mValueError\u001b[0m                                Traceback (most recent call last)",
      "Cell \u001b[0;32mIn[7], line 1\u001b[0m\n\u001b[0;32m----> 1\u001b[0m r_n(sin,cos,\u001b[38;5;241m1.5\u001b[39m,\u001b[38;5;241m1e-16\u001b[39m)\n",
      "Cell \u001b[0;32mIn[6], line 6\u001b[0m, in \u001b[0;36mr_n\u001b[0;34m(func, deriv_func, x0, err)\u001b[0m\n\u001b[1;32m      3\u001b[0m dif_raiz,cont\u001b[38;5;241m=\u001b[39merr\u001b[38;5;241m+\u001b[39m\u001b[38;5;241m1\u001b[39m,\u001b[38;5;241m0\u001b[39m\n\u001b[1;32m      5\u001b[0m \u001b[38;5;66;03m#for i in range(10):\u001b[39;00m\n\u001b[0;32m----> 6\u001b[0m \u001b[38;5;28;01mwhile\u001b[39;00m \u001b[38;5;28mabs\u001b[39m(fi)\u001b[38;5;241m>\u001b[39merr \u001b[38;5;129;01mand\u001b[39;00m dif_raiz\u001b[38;5;241m>\u001b[39merr:\n\u001b[1;32m      7\u001b[0m     xref\u001b[38;5;241m=\u001b[39mx0\n\u001b[1;32m      8\u001b[0m     x0\u001b[38;5;241m=\u001b[39mx0\u001b[38;5;241m-\u001b[39m(fi\u001b[38;5;241m/\u001b[39mdfi)\n",
      "\u001b[0;31mValueError\u001b[0m: The truth value of an array with more than one element is ambiguous. Use a.any() or a.all()"
     ]
    }
   ],
   "source": [
    "r_n(sin,cos,1.5,1e-16)"
   ]
  },
  {
   "cell_type": "code",
   "execution_count": null,
   "id": "06e69fce-bfd0-4c36-b983-a256a22b6ead",
   "metadata": {},
   "outputs": [],
   "source": []
  }
 ],
 "metadata": {
  "kernelspec": {
   "display_name": "Python 3 (ipykernel)",
   "language": "python",
   "name": "python3"
  },
  "language_info": {
   "codemirror_mode": {
    "name": "ipython",
    "version": 3
   },
   "file_extension": ".py",
   "mimetype": "text/x-python",
   "name": "python",
   "nbconvert_exporter": "python",
   "pygments_lexer": "ipython3",
   "version": "3.11.5"
  }
 },
 "nbformat": 4,
 "nbformat_minor": 5
}
